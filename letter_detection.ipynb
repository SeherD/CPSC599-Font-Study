{
 "cells": [
  {
   "cell_type": "code",
   "execution_count": 16,
   "metadata": {},
   "outputs": [
    {
     "name": "stdout",
     "output_type": "stream",
     "text": [
      "Bounding box information:\n",
      "N 44 119 74 154 0\n",
      "o 69 119 92 154 0\n",
      "s 76 123 129 140 0\n",
      "e 113 119 132 154 0\n",
      "m 132 124 172 140 0\n",
      "a 153 119 172 154 0\n",
      "\n",
      "Array of letters: ['N', 'O', 'S', 'E', 'M', 'A']\n"
     ]
    }
   ],
   "source": [
    "from PIL import Image, ImageDraw\n",
    "import pytesseract\n",
    "\n",
    "def process_image(input_path, output_path):\n",
    "    # Open the image file\n",
    "    img = Image.open(input_path)\n",
    "\n",
    "    # Get the text and bounding box information from the image using Tesseract OCR\n",
    "    result = pytesseract.image_to_boxes(img, config='--psm 11')\n",
    "\n",
    "    # Print bounding box information\n",
    "    print(\"Bounding box information:\")\n",
    "    print(result)\n",
    "\n",
    "    # Create an image with the same size as the input image\n",
    "    output_img = img.copy()\n",
    "    draw = ImageDraw.Draw(output_img)\n",
    "\n",
    "    # Get image height for coordinate transformation\n",
    "    img_height = img.size[1]\n",
    "\n",
    "    # Iterate through each character and draw a bounding box\n",
    "    for char_info in result.splitlines():\n",
    "        char_data = char_info.split()\n",
    "        char = char_data[0]\n",
    "\n",
    "        if char.isalpha():\n",
    "            # Get the bounding box for the character\n",
    "            bbox = [int(coord) for coord in char_data[1:5]]\n",
    "\n",
    "            # Transform coordinates to PIL coordinate system\n",
    "            bbox[1], bbox[3] = img_height - bbox[3], img_height - bbox[1]\n",
    "\n",
    "            # Draw a rectangle around the character in the output image with red color\n",
    "            draw.rectangle(bbox, outline='red')\n",
    "\n",
    "    # Save the output image\n",
    "    output_img.save(output_path)\n",
    "\n",
    "    # Return the array of letters\n",
    "    letters = [char.upper() for char in result if char.isalpha()]\n",
    "    return letters\n",
    "\n",
    "if __name__ == \"__main__\":\n",
    "    input_image_path = r\"supervised\\papyrus_images\\papyrus-001.jpg\"\n",
    "    output_image_path = r\"boundingboxes\\papyrus-001.jpg\"\n",
    "\n",
    "    result = process_image(input_image_path, output_image_path)\n",
    "    print(\"Array of letters:\", result)\n"
   ]
  },
  {
   "cell_type": "code",
   "execution_count": null,
   "metadata": {},
   "outputs": [],
   "source": [
    "input_image_path = r\"supervised\\century_schoolbook_images\\century_schoolbook-011.jpg\"\n",
    "output_image_path = r\"boundingboxes\\cent-011.jpg\"\n"
   ]
  }
 ],
 "metadata": {
  "kernelspec": {
   "display_name": "Python 3",
   "language": "python",
   "name": "python3"
  },
  "language_info": {
   "codemirror_mode": {
    "name": "ipython",
    "version": 3
   },
   "file_extension": ".py",
   "mimetype": "text/x-python",
   "name": "python",
   "nbconvert_exporter": "python",
   "pygments_lexer": "ipython3",
   "version": "3.10.11"
  }
 },
 "nbformat": 4,
 "nbformat_minor": 2
}
