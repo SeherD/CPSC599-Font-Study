{
 "cells": [
  {
   "cell_type": "code",
   "execution_count": 6,
   "metadata": {},
   "outputs": [
    {
     "name": "stdout",
     "output_type": "stream",
     "text": [
      "Looking for C:\\Users\\seher\\.keras-ocr\\craft_mlt_25k.h5\n",
      "Looking for C:\\Users\\seher\\.keras-ocr\\crnn_kurapan.h5\n",
      "1/1 [==============================] - 1s 700ms/step\n",
      "1/1 [==============================] - 2s 2s/step\n",
      "Keras OCR Result: food encineering asdects\n",
      "Tesseract Result: Hood enaineering Aspects\n",
      "\n",
      "OCR results are different.\n"
     ]
    }
   ],
   "source": [
    "import cv2\n",
    "import pytesseract\n",
    "from keras_ocr import pipeline\n",
    "\n",
    "def keras_ocr_implementation(image_path):\n",
    "    # Load the Keras OCR pipeline\n",
    "    keras_ocr_pipeline = pipeline.Pipeline()\n",
    "\n",
    "    # Read the image using OpenCV\n",
    "    image = cv2.imread(image_path)\n",
    "\n",
    "    # Perform OCR using Keras OCR\n",
    "    result = keras_ocr_pipeline.recognize(images=[image])\n",
    "\n",
    "    # Extract text from the Keras OCR result\n",
    "    keras_ocr_text = ' '.join([word_info[0] for word_info in result[0]])\n",
    "\n",
    "    return keras_ocr_text\n",
    "\n",
    "def tesseract_implementation(image_path):\n",
    "    # Read the image using OpenCV\n",
    "    image = cv2.imread(image_path)\n",
    "\n",
    "    # Perform OCR using Tesseract\n",
    "    tesseract_text = pytesseract.image_to_string(image)\n",
    "\n",
    "    return tesseract_text\n",
    "\n",
    "def main():\n",
    "    # Path to the image you want to perform OCR on\n",
    "    image_path = r'C:\\Users\\seher\\Desktop\\Fall 2023\\CPSC599\\AdobeVFR\\VFR_real_test\\CalibanStd\\CalibanStd772.png.png'\n",
    "\n",
    "    # Perform OCR using Keras OCR\n",
    "    keras_ocr_text = keras_ocr_implementation(image_path)\n",
    "    print(f'Keras OCR Result: {keras_ocr_text}')\n",
    "\n",
    "    # Perform OCR using Tesseract\n",
    "    tesseract_text = tesseract_implementation(image_path)\n",
    "    print(f'Tesseract Result: {tesseract_text}')\n",
    "\n",
    "    # Compare the results\n",
    "    if keras_ocr_text == tesseract_text:\n",
    "        print('Both OCR results are the same.')\n",
    "    else:\n",
    "        print('OCR results are different.')\n",
    "\n",
    "if __name__ == \"__main__\":\n",
    "    main()\n"
   ]
  }
 ],
 "metadata": {
  "kernelspec": {
   "display_name": "Python 3",
   "language": "python",
   "name": "python3"
  },
  "language_info": {
   "codemirror_mode": {
    "name": "ipython",
    "version": 3
   },
   "file_extension": ".py",
   "mimetype": "text/x-python",
   "name": "python",
   "nbconvert_exporter": "python",
   "pygments_lexer": "ipython3",
   "version": "3.10.11"
  }
 },
 "nbformat": 4,
 "nbformat_minor": 2
}
