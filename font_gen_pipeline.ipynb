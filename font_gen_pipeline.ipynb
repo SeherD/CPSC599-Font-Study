{
 "cells": [
  {
   "cell_type": "code",
   "execution_count": 1,
   "metadata": {},
   "outputs": [
    {
     "name": "stderr",
     "output_type": "stream",
     "text": [
      "[nltk_data] Downloading package words to\n",
      "[nltk_data]     C:\\Users\\seher\\AppData\\Roaming\\nltk_data...\n",
      "[nltk_data]   Package words is already up-to-date!\n"
     ]
    }
   ],
   "source": [
    "import random\n",
    "import nltk\n",
    "from PIL import Image, ImageDraw, ImageFont, ImageFilter\n",
    "import os\n",
    "import random\n",
    "import csv\n",
    "\n",
    "nltk.download(\"words\")\n",
    "from nltk.corpus import words"
   ]
  },
  {
   "cell_type": "markdown",
   "metadata": {},
   "source": [
    "Word Generator Code"
   ]
  },
  {
   "cell_type": "code",
   "execution_count": 2,
   "metadata": {},
   "outputs": [],
   "source": [
    "english_words = set(words.words())\n",
    "\n",
    "\n",
    "def missing_letters(word_list):\n",
    "    alphabet = set(\"abcdefghijklmnopqrstuvwxyz\")\n",
    "    missing = alphabet.difference(set(\"\".join(word_list)))\n",
    "    return missing\n",
    "\n",
    "\n",
    "def generate_list():\n",
    "    word_list = set()\n",
    "    letters_covered = set()\n",
    "\n",
    "    while len(word_list) < 1100 and len(letters_covered) < 26:\n",
    "        new_word = random.choice(list(english_words))\n",
    "        if 3 <= len(new_word) <= 10:\n",
    "            word_list.add(new_word)\n",
    "            letters_covered = missing_letters(word_list)\n",
    "\n",
    "    word_list = list(word_list)[:1100]  # Get the first 1100 words\n",
    "\n",
    "    return word_list"
   ]
  },
  {
   "cell_type": "markdown",
   "metadata": {},
   "source": [
    "Font Generator Code"
   ]
  },
  {
   "cell_type": "code",
   "execution_count": 12,
   "metadata": {},
   "outputs": [],
   "source": [
    "# find all fonts\n",
    "\n",
    "\n",
    "def find_ttf_files(directory):\n",
    "    ttf_files = [\n",
    "        f.replace(\".ttf\", \"\") for f in os.listdir(directory) if f.endswith(\".ttf\")\n",
    "    ]\n",
    "    return ttf_files\n",
    "\n",
    "\n",
    "# Directory containing the font files\n",
    "directory_path = r\"C:\\Users\\seher\\Desktop\\Fall 2023\\CPSC599\\Font Generator\"\n",
    "\n",
    "ttf_files_list = find_ttf_files(directory_path)\n",
    "\n",
    "\n",
    "def get_text_dimensions(text_string, font):\n",
    "    ascent, descent = font.getmetrics()\n",
    "\n",
    "    text_width = font.getmask(text_string).getbbox()[2]\n",
    "    text_height = font.getmask(text_string).getbbox()[3] + descent\n",
    "\n",
    "    return (text_width, text_height)"
   ]
  },
  {
   "cell_type": "code",
   "execution_count": 14,
   "metadata": {},
   "outputs": [],
   "source": [
    "for font_name in ttf_files_list:\n",
    "    output_directory = f\"{font_name}_images\"\n",
    "    if not os.path.exists(output_directory):\n",
    "        os.makedirs(output_directory)\n",
    "\n",
    "    font = ImageFont.truetype(\n",
    "        f\"{font_name}.ttf\", 36\n",
    "    )  # Replace \"times.ttf\" with the actual path to your Times New Roman font file\n",
    "    word_list = generate_list()\n",
    "    word_list = list(word_list)[:1100]\n",
    "    # Generate 1100 images\n",
    "    image_word_list = []\n",
    "\n",
    "    for i in range(1, 1100):\n",
    "        font_size = random.randint(30, 40)\n",
    "        font = ImageFont.truetype(f\"{font_name}.ttf\", font_size)\n",
    "        color_choice = \"white\"\n",
    "        fill_choice = \"black\"\n",
    "        if i % 4 == 0:\n",
    "            color_choice = \"black\"\n",
    "            fill_choice = \"white\"\n",
    "        img = Image.new(\n",
    "            \"RGB\", (256, 256), color=color_choice\n",
    "        )  # Image size (width, height)\n",
    "        d = ImageDraw.Draw(img)\n",
    "        text = word_list[i]\n",
    "        text_width, text_height = get_text_dimensions(text, font)\n",
    "        max_x = 256 - text_width\n",
    "        max_y_text = 256 - text_height-20\n",
    "\n",
    "        # Randomize the X position\n",
    "        text_position = (random.randint(0, max_x), random.randint(0, max_y_text))\n",
    "        d.text(text_position, text, font=font, fill=fill_choice)  # Draw the text onto the image\n",
    "        # Draw text at the calculated position ,
    "        img = img.filter(ImageFilter.GaussianBlur(radius=2))\n",
    "        file_name = f\"{font_name}-{i:03d}.jpg\"\n",
    "        img.save(f\"{output_directory}/{font_name}-{i:03d}.jpg\")\n",
    "        image_word_list.append((file_name, text))\n",
    "        # Save the image with proper filename\n",
    "\n",
    "        csv_file_path = f\"{font_name}.csv\"\n",
    "\n",
    "        # Writing the list of tuples to the CSV file\n",
    "        with open(csv_file_path, \"w\", newline=\"\") as file:\n",
    "            writer = csv.writer(file)\n",
    "            writer.writerows(image_word_list)"
   ]
  },
  {
   "cell_type": "markdown",
   "metadata": {},
   "source": [
    "CSV saver"
   ]
  },
  {
   "cell_type": "code",
   "execution_count": null,
   "metadata": {},
   "outputs": [],
   "source": []
  }
 ],
 "metadata": {
  "kernelspec": {
   "display_name": "Python 3",
   "language": "python",
   "name": "python3"
  },
  "language_info": {
   "codemirror_mode": {
    "name": "ipython",
    "version": 3
   },
   "file_extension": ".py",
   "mimetype": "text/x-python",
   "name": "python",
   "nbconvert_exporter": "python",
   "pygments_lexer": "ipython3",
   "version": "3.10.11"
  }
 },
 "nbformat": 4,
 "nbformat_minor": 2
}
